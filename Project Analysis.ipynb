{
 "cells": [
  {
   "cell_type": "code",
   "execution_count": 42,
   "metadata": {},
   "outputs": [],
   "source": [
    "import cv2\n",
    "import glob\n",
    "import numpy as np\n",
    "import csv\n",
    "import pandas as pd\n",
    "from matplotlib import pyplot as plt"
   ]
  },
  {
   "cell_type": "code",
   "execution_count": 6,
   "metadata": {},
   "outputs": [],
   "source": [
    "# save images to a csv file, one row per image\n",
    "# @param imgDir: directory name of the images\n",
    "# @param csvpath: name of the csv file\n",
    "# @param number: number of images to save\n",
    "# @param label: label of the images, 0 for normal, 1 for pneumonia\n",
    "def imgToCsv(imgDir, csvPath, number, label):\n",
    "    with open(csvPath, mode='a+') as file:\n",
    "        writer = csv.writer(file) \n",
    "        count = 0\n",
    "        for currImg in glob.glob(imgDir+'/*.jpeg'):\n",
    "            img = cv2.imread(currImg)\n",
    "            img = cv2.cvtColor(img, cv2.COLOR_BGR2GRAY)\n",
    "            img = cv2.resize(img, (100, 100))\n",
    "            img = img.reshape(1, -1)\n",
    "            imgList = [label]\n",
    "            for i in range(len(img[0])):\n",
    "                imgList.append(img[0][i])\n",
    "            writer.writerow(imgList)\n",
    "            count += 1\n",
    "            if count == number:\n",
    "                break"
   ]
  },
  {
   "cell_type": "code",
   "execution_count": 7,
   "metadata": {},
   "outputs": [],
   "source": [
    "# clear a csv file\n",
    "# @param csvPath: name of csv file\n",
    "def clearCsv(csvPath):\n",
    "    f = open(csvPath, 'r+')\n",
    "    f.truncate(0) \n",
    "    f.close()"
   ]
  },
  {
   "cell_type": "markdown",
   "metadata": {},
   "source": [
    "# Convert Images to CSV"
   ]
  },
  {
   "cell_type": "code",
   "execution_count": 16,
   "metadata": {},
   "outputs": [],
   "source": [
    "imgToCsv('normal', 'xray_images.csv', 1000, 0)"
   ]
  },
  {
   "cell_type": "code",
   "execution_count": 17,
   "metadata": {},
   "outputs": [],
   "source": [
    "imgToCsv('pneumonia', 'xray_images.csv', 1000, 1)"
   ]
  },
  {
   "cell_type": "code",
   "execution_count": 18,
   "metadata": {},
   "outputs": [
    {
     "data": {
      "text/plain": [
       "(2000, 10001)"
      ]
     },
     "execution_count": 18,
     "metadata": {},
     "output_type": "execute_result"
    }
   ],
   "source": [
    "images = pd.read_csv('xray_images.csv', header=None)\n",
    "data = images\n",
    "data.shape"
   ]
  },
  {
   "cell_type": "markdown",
   "metadata": {},
   "source": [
    "# PCA"
   ]
  },
  {
   "cell_type": "code",
   "execution_count": 182,
   "metadata": {},
   "outputs": [],
   "source": [
    "from sklearn.preprocessing import StandardScaler\n",
    "features = data.loc[:,1:data.shape[1]] #all features\n",
    "labels = data.loc[:,0] #all labels\n",
    "features = StandardScaler().fit_transform(features) #standarlize all the features"
   ]
  },
  {
   "cell_type": "code",
   "execution_count": 183,
   "metadata": {},
   "outputs": [],
   "source": [
    "from sklearn.decomposition import PCA\n",
    "pca = PCA(n_components=features.shape[0])\n",
    "principalComponents = pca.fit_transform(features)\n",
    "principalDf = pd.DataFrame(data = principalComponents) #principal components"
   ]
  },
  {
   "cell_type": "code",
   "execution_count": 184,
   "metadata": {},
   "outputs": [
    {
     "data": {
      "text/plain": [
       "(2000, 2001)"
      ]
     },
     "execution_count": 184,
     "metadata": {},
     "output_type": "execute_result"
    }
   ],
   "source": [
    "finalDf = pd.concat([labels, principalDf], axis = 1) #add in the all labels\n",
    "finalDf.shape"
   ]
  },
  {
   "cell_type": "code",
   "execution_count": 185,
   "metadata": {},
   "outputs": [
    {
     "data": {
      "text/plain": [
       "Text(0, 0.5, ' total information')"
      ]
     },
     "execution_count": 185,
     "metadata": {},
     "output_type": "execute_result"
    },
    {
     "data": {
      "image/png": "[encoded data removed]",
      "text/plain": [
       "<Figure size 432x288 with 1 Axes>"
      ]
     },
     "metadata": {},
     "output_type": "display_data"
    }
   ],
   "source": [
    "ratio = pca.explained_variance_ratio_ #information(variance) of each of the principal components\n",
    "variance = 0\n",
    "count = 0\n",
    "for value in ratio: #sum the each component's covered information one by one\n",
    "    variance += value\n",
    "    count += 1\n",
    "    plt.scatter(count, variance, c = 'b', marker = '.') #show the trends of total information\n",
    "plt.xlabel('principal components', fontsize = 15)\n",
    "plt.ylabel(' total information', fontsize = 15)"
   ]
  },
  {
   "cell_type": "markdown",
   "metadata": {},
   "source": [
    "# Logistic Regression"
   ]
  },
  {
   "cell_type": "code",
   "execution_count": 300,
   "metadata": {},
   "outputs": [],
   "source": [
    "from sklearn.linear_model import LogisticRegression\n",
    "from sklearn.model_selection import train_test_split\n",
    "import seaborn as sns\n",
    "from sklearn.metrics import log_loss\n",
    "import timeit\n",
    "from sklearn.model_selection import cross_val_score"
   ]
  },
  {
   "cell_type": "markdown",
   "metadata": {},
   "source": [
    "## LR on Principal Dimensions"
   ]
  },
  {
   "cell_type": "code",
   "execution_count": 410,
   "metadata": {},
   "outputs": [],
   "source": [
    "#70% train, 30% test\n",
    "x_train, x_test, y_train, y_test = train_test_split(finalDf.iloc[:,1:], finalDf.iloc[:,0], test_size = 0.3, shuffle = True)"
   ]
  },
  {
   "cell_type": "code",
   "execution_count": 411,
   "metadata": {},
   "outputs": [
    {
     "name": "stdout",
     "output_type": "stream",
     "text": [
      "Accuracy:  0.9466666666666667\n"
     ]
    }
   ],
   "source": [
    "start = timeit.default_timer() \n",
    "LR = LogisticRegression(max_iter=600)\n",
    "LR.fit(x_train, y_train)\n",
    "prediction = LR.predict(x_test) #predicton\n",
    "accuracy1 = LR.score(x_test, y_test) #score of prediction\n",
    "end = timeit.default_timer()\n",
    "duration1 = end - start #running time\n",
    "print('Accuracy: ', accuracy1)"
   ]
  },
  {
   "cell_type": "code",
   "execution_count": 412,
   "metadata": {},
   "outputs": [
    {
     "name": "stdout",
     "output_type": "stream",
     "text": [
      "0.2389197666264811\n"
     ]
    }
   ],
   "source": [
    "prob = LR.predict_proba(x_test) #probabilities of lable 1 for each prediction\n",
    "loss1 = log_loss(y_test, prob) #loss of the prediction\n",
    "print(loss1)"
   ]
  },
  {
   "cell_type": "code",
   "execution_count": 393,
   "metadata": {},
   "outputs": [
    {
     "data": {
      "text/plain": [
       "Text(0.5, 1.0, 'label probability')"
      ]
     },
     "execution_count": 393,
     "metadata": {},
     "output_type": "execute_result"
    },
    {
     "data": {
      "image/png": "[encoded data removed]",
      "text/plain": [
       "<Figure size 432x288 with 1 Axes>"
      ]
     },
     "metadata": {},
     "output_type": "display_data"
    }
   ],
   "source": [
    "plt.scatter(prob[:,0], prob[:,1], marker='.')\n",
    "plt.xlabel('positive', fontsize = 15)\n",
    "plt.ylabel('negative', fontsize = 15)\n",
    "plt.title('label probability', fontsize = 15)"
   ]
  },
  {
   "cell_type": "code",
   "execution_count": 398,
   "metadata": {},
   "outputs": [
    {
     "name": "stdout",
     "output_type": "stream",
     "text": [
      "Certainty Rate: 0.9466666666666667\n"
     ]
    }
   ],
   "source": [
    "count = 0\n",
    "for i in range(len(prob)):\n",
    "    if (prob[i,0] > 0.9) or (prob [i,1] > 0.9):\n",
    "        count+=1\n",
    "certainty1 = count/len(prob)\n",
    "print('Certainty Rate:', certainty1)"
   ]
  },
  {
   "cell_type": "code",
   "execution_count": 395,
   "metadata": {},
   "outputs": [
    {
     "name": "stdout",
     "output_type": "stream",
     "text": [
      "10-folds Cross Validation Score: 0.9421428571428571\n"
     ]
    }
   ],
   "source": [
    "#10-folds cross validation\n",
    "scores = cross_val_score(LR, x_train, y_train, cv=10)\n",
    "scores = pd.Series(scores)\n",
    "cross_score1 = scores.mean()\n",
    "print(\"10-folds Cross Validation Score:\", cross_score1)"
   ]
  },
  {
   "cell_type": "code",
   "execution_count": 397,
   "metadata": {},
   "outputs": [
    {
     "data": {
      "text/plain": [
       "0.9571428571428572"
      ]
     },
     "execution_count": 397,
     "metadata": {},
     "output_type": "execute_result"
    }
   ],
   "source": [
    "scores.max()"
   ]
  },
  {
   "cell_type": "markdown",
   "metadata": {},
   "source": [
    "## LR on Full Dimensions"
   ]
  },
  {
   "cell_type": "code",
   "execution_count": 407,
   "metadata": {},
   "outputs": [],
   "source": [
    "#70% train, 30% test\n",
    "x_train, x_test, y_train, y_test = train_test_split(data.iloc[:,1:], data.iloc[:,0], test_size = 0.3, shuffle = True)"
   ]
  },
  {
   "cell_type": "code",
   "execution_count": 408,
   "metadata": {},
   "outputs": [
    {
     "name": "stdout",
     "output_type": "stream",
     "text": [
      "Accuracy:  0.955\n"
     ]
    }
   ],
   "source": [
    "start = timeit.default_timer()\n",
    "LR = LogisticRegression(max_iter=600)\n",
    "LR.fit(x_train, y_train)\n",
    "prediction = LR.predict(x_test) #prediction\n",
    "accuracy2 = LR.score(x_test, y_test) #model score\n",
    "end = timeit.default_timer()\n",
    "duration2 = end - start #running time\n",
    "print('Accuracy: ', accuracy2)"
   ]
  },
  {
   "cell_type": "code",
   "execution_count": 409,
   "metadata": {},
   "outputs": [
    {
     "name": "stdout",
     "output_type": "stream",
     "text": [
      "0.31411028597081464\n"
     ]
    }
   ],
   "source": [
    "prob = LR.predict_proba(x_test) #probabilities of lable 1 for each prediction\n",
    "loss2 = log_loss(y_test, prob) #loss of the prediction\n",
    "print(loss2)"
   ]
  },
  {
   "cell_type": "code",
   "execution_count": 385,
   "metadata": {},
   "outputs": [
    {
     "data": {
      "text/plain": [
       "Text(0.5, 1.0, 'label probability')"
      ]
     },
     "execution_count": 385,
     "metadata": {},
     "output_type": "execute_result"
    },
    {
     "data": {
      "image/png": "[encoded data removed]",
      "text/plain": [
       "<Figure size 432x288 with 1 Axes>"
      ]
     },
     "metadata": {},
     "output_type": "display_data"
    }
   ],
   "source": [
    "plt.scatter(prob[:,0], prob[:,1], marker='.')\n",
    "plt.xlabel('positive', fontsize = 15)\n",
    "plt.ylabel('negative', fontsize = 15)\n",
    "plt.title('label probability', fontsize = 15)"
   ]
  },
  {
   "cell_type": "code",
   "execution_count": 389,
   "metadata": {},
   "outputs": [
    {
     "name": "stdout",
     "output_type": "stream",
     "text": [
      "Certainty Rate: 0.9683333333333334\n"
     ]
    }
   ],
   "source": [
    "count = 0\n",
    "for i in range(len(prob)):\n",
    "    if (prob[i,0] > 0.9) or (prob [i,1] > 0.9):\n",
    "        count+=1\n",
    "certainty2 = count/len(prob)\n",
    "print('Certainty Rate:', certainty2)"
   ]
  },
  {
   "cell_type": "code",
   "execution_count": 375,
   "metadata": {},
   "outputs": [
    {
     "name": "stdout",
     "output_type": "stream",
     "text": [
      "10-folds Cross Validation Score: 0.9357142857142857\n"
     ]
    }
   ],
   "source": [
    "#10-folds cross validation\n",
    "scores = cross_val_score(LR, x_train, y_train, cv=10)\n",
    "scores = pd.Series(scores)\n",
    "cross_score2 = scores.mean()\n",
    "print(\"10-folds Cross Validation Score:\", cross_score2)"
   ]
  },
  {
   "cell_type": "code",
   "execution_count": 379,
   "metadata": {},
   "outputs": [
    {
     "data": {
      "text/plain": [
       "0.9571428571428572"
      ]
     },
     "execution_count": 379,
     "metadata": {},
     "output_type": "execute_result"
    }
   ],
   "source": [
    "scores.max()"
   ]
  },
  {
   "cell_type": "markdown",
   "metadata": {},
   "source": [
    "## Comparisons "
   ]
  },
  {
   "cell_type": "code",
   "execution_count": 368,
   "metadata": {},
   "outputs": [
    {
     "data": {
      "text/plain": [
       "Text(0.5, 1.0, 'one time prediction')"
      ]
     },
     "execution_count": 368,
     "metadata": {},
     "output_type": "execute_result"
    },
    {
     "data": {
      "image/png": "[encoded data removed]",
      "text/plain": [
       "<Figure size 432x288 with 1 Axes>"
      ]
     },
     "metadata": {},
     "output_type": "display_data"
    }
   ],
   "source": [
    "#show accuracies of two modeles\n",
    "x = [1,2]\n",
    "plt.bar(x, height=[accuracy1, accuracy2])\n",
    "plt.xticks(x, ['principal dims','full dims'], fontsize = 15)\n",
    "plt.ylabel('accuracy', fontsize = 15)\n",
    "plt.title('one time prediction', fontsize=15)"
   ]
  },
  {
   "cell_type": "code",
   "execution_count": 416,
   "metadata": {},
   "outputs": [
    {
     "data": {
      "text/plain": [
       "Text(0.5, 1.0, 'cross validated prediction')"
      ]
     },
     "execution_count": 416,
     "metadata": {},
     "output_type": "execute_result"
    },
    {
     "data": {
      "image/png": "[encoded data removed]",
      "text/plain": [
       "<Figure size 432x288 with 1 Axes>"
      ]
     },
     "metadata": {},
     "output_type": "display_data"
    }
   ],
   "source": [
    "#show validated accuracies of two modeles\n",
    "x = [1,2]\n",
    "plt.bar(x, height=[cross_score1, cross_score2])\n",
    "plt.xticks(x, ['principal dims','full dims'], fontsize = 15)\n",
    "plt.ylabel('accuracy', fontsize = 15)\n",
    "plt.title('cross validated prediction', fontsize = 15)"
   ]
  },
  {
   "cell_type": "code",
   "execution_count": 413,
   "metadata": {},
   "outputs": [
    {
     "data": {
      "text/plain": [
       "Text(0, 0.5, 'loss')"
      ]
     },
     "execution_count": 413,
     "metadata": {},
     "output_type": "execute_result"
    },
    {
     "data": {
      "image/png": "[encoded data removed]",
      "text/plain": [
       "<Figure size 432x288 with 1 Axes>"
      ]
     },
     "metadata": {},
     "output_type": "display_data"
    }
   ],
   "source": [
    "#show loss of two modeles\n",
    "x = [1,2]\n",
    "plt.bar(x, height=[loss1,loss2])\n",
    "plt.xticks(x, ['principal dims','full dims'], fontsize = 15)\n",
    "plt.ylabel('loss', fontsize = 15)"
   ]
  },
  {
   "cell_type": "code",
   "execution_count": 414,
   "metadata": {},
   "outputs": [
    {
     "data": {
      "text/plain": [
       "Text(0, 0.5, 'certainty')"
      ]
     },
     "execution_count": 414,
     "metadata": {},
     "output_type": "execute_result"
    },
    {
     "data": {
      "image/png": "[encoded data removed]",
      "text/plain": [
       "<Figure size 432x288 with 1 Axes>"
      ]
     },
     "metadata": {},
     "output_type": "display_data"
    }
   ],
   "source": [
    "#show certainty of two modeles\n",
    "x = [1,2]\n",
    "plt.bar(x, height=[certainty1,certainty2])\n",
    "plt.xticks(x, ['principal dims','full dims'], fontsize = 15)\n",
    "plt.ylabel('certainty', fontsize = 15)\n",
    "\n",
    "#explaination: certainty does not mean accuracy, false positive happen on full dims \n",
    "#(certain on incorrect predictions)"
   ]
  },
  {
   "cell_type": "code",
   "execution_count": 418,
   "metadata": {},
   "outputs": [
    {
     "name": "stdout",
     "output_type": "stream",
     "text": [
      "Running time on pricipals:  1.0572169160004705\n",
      "Running time on full dimentions:  13.088632651022635\n",
      "Ratio:  0.08077367164230624\n"
     ]
    },
    {
     "data": {
      "image/png": "[encoded data removed]",
      "text/plain": [
       "<Figure size 432x288 with 1 Axes>"
      ]
     },
     "metadata": {},
     "output_type": "display_data"
    }
   ],
   "source": [
    "#show running time of two modeles\n",
    "x = [1,2]\n",
    "plt.bar(x, height=[duration1, duration2])\n",
    "plt.xticks(x, ['principal dims','full dims'], fontsize = 15)\n",
    "plt.ylabel('running time', fontsize = 15)\n",
    "print('Running time on pricipals: ', duration1)\n",
    "print('Running time on full dimentions: ', duration2)\n",
    "print('Ratio: ', duration1/duration2)"
   ]
  },
  {
   "cell_type": "markdown",
   "metadata": {},
   "source": [
    "# K-Means"
   ]
  },
  {
   "cell_type": "code",
   "execution_count": 196,
   "metadata": {},
   "outputs": [],
   "source": [
    "%matplotlib inline\n",
    "import numpy as np\n",
    "from scipy.io import loadmat\n",
    "from matplotlib import pyplot as plt\n",
    "import random\n",
    "\n",
    "plt.style.use('ggplot')"
   ]
  },
  {
   "cell_type": "code",
   "execution_count": 216,
   "metadata": {},
   "outputs": [
    {
     "data": {
      "text/plain": [
       "1000"
      ]
     },
     "execution_count": 216,
     "metadata": {},
     "output_type": "execute_result"
    }
   ],
   "source": [
    "X = principalDf.loc[1000:2000, :]\n",
    "# print(X.shape)\n",
    "C = X.iloc[np.random.randint(X.shape[0], size=2)]\n",
    "C.shape\n",
    "clus = np.sqrt(sum((X.iloc[1]-C.iloc[0])**2))\n",
    "clus\n",
    "len(X.index)"
   ]
  },
  {
   "cell_type": "code",
   "execution_count": 217,
   "metadata": {},
   "outputs": [],
   "source": [
    "def k_mean_total_dis(k,it): \n",
    "    C = X.iloc[np.random.randint(X.shape[0], size=k)] #random centers\n",
    "    for itr in range(it): \n",
    "        cluster_ind = np.zeros(len(X.index))\n",
    "        distance = np.zeros((len(X.index), k))\n",
    "        # find distance of every point to each centroid, and cluster membership\n",
    "        for k_pos in range(k): \n",
    "            for i in range(len(X.index)):\n",
    "                clus = np.sqrt(sum((X.iloc[i]-C.iloc[k_pos])**2))\n",
    "                distance[i,k_pos] = clus\n",
    "        cluster_ind = np.argmin(distance,axis=1)\n",
    "        for k_pos in range(k):\n",
    "            ind = []\n",
    "            val = []\n",
    "            summ = []\n",
    "            dist = []\n",
    "            alldist = []\n",
    "            for i in range(len(X.index)):\n",
    "                if (cluster_ind[i]==k_pos):\n",
    "                    ind.append(i)\n",
    "                    val.append(X.iloc[i])\n",
    "                    dist.append(np.sqrt(sum((X.iloc[i]-C.iloc[k_pos])**2)))\n",
    "            alldist.append(sum(dist))\n",
    "            if (len(ind)!=0):\n",
    "                summ = sum(val)\n",
    "                mean = summ/len(ind)\n",
    "                C.iloc[k_pos] = mean\n",
    "    return alldist"
   ]
  },
  {
   "cell_type": "code",
   "execution_count": 238,
   "metadata": {},
   "outputs": [
    {
     "name": "stderr",
     "output_type": "stream",
     "text": [
      "/Users/Versace/opt/anaconda3/lib/python3.8/site-packages/pandas/core/indexing.py:671: SettingWithCopyWarning: \n",
      "A value is trying to be set on a copy of a slice from a DataFrame\n",
      "\n",
      "See the caveats in the documentation: https://pandas.pydata.org/pandas-docs/stable/user_guide/indexing.html#returning-a-view-versus-a-copy\n",
      "  self._setitem_with_indexer(indexer, value)\n",
      "<ipython-input-217-1b6696683be1>:32: SettingWithCopyWarning: \n",
      "A value is trying to be set on a copy of a slice from a DataFrame\n",
      "\n",
      "See the caveats in the documentation: https://pandas.pydata.org/pandas-docs/stable/user_guide/indexing.html#returning-a-view-versus-a-copy\n",
      "  C.iloc[k_pos] = mean\n"
     ]
    }
   ],
   "source": [
    "totalDist = []\n",
    "for k in range(1,11):\n",
    "    dist = k_mean_total_dis(k,100)\n",
    "    totalDist.append(dist)"
   ]
  },
  {
   "cell_type": "code",
   "execution_count": 239,
   "metadata": {},
   "outputs": [
    {
     "data": {
      "text/plain": [
       "[[97780.2643317914],\n",
       " [33877.72215992445],\n",
       " [21965.64507227402],\n",
       " [17837.139405829228],\n",
       " [16285.884768418224],\n",
       " [12374.82096652662],\n",
       " [20227.99248440403],\n",
       " [11791.262577937614],\n",
       " [8007.468390321226],\n",
       " [6788.617367098232]]"
      ]
     },
     "execution_count": 239,
     "metadata": {},
     "output_type": "execute_result"
    }
   ],
   "source": [
    "totalDist"
   ]
  },
  {
   "cell_type": "code",
   "execution_count": 330,
   "metadata": {},
   "outputs": [
    {
     "data": {
      "text/plain": [
       "Text(0, 0.5, 'total loss')"
      ]
     },
     "execution_count": 330,
     "metadata": {},
     "output_type": "execute_result"
    },
    {
     "data": {
      "image/png": "[encoded data removed]",
      "text/plain": [
       "<Figure size 432x288 with 1 Axes>"
      ]
     },
     "metadata": {},
     "output_type": "display_data"
    }
   ],
   "source": [
    "k = np.arange(1, 11)\n",
    "plt.plot(k,totalDist)\n",
    "plt.xticks(np.arange(1,11))\n",
    "plt.xlabel('clusters', fontsize=15)\n",
    "plt.ylabel('total loss', fontsize=15)"
   ]
  },
  {
   "cell_type": "code",
   "execution_count": null,
   "metadata": {},
   "outputs": [],
   "source": []
  }
 ],
 "metadata": {
  "kernelspec": {
   "display_name": "Python 3",
   "language": "python",
   "name": "python3"
  },
  "language_info": {
   "codemirror_mode": {
    "name": "ipython",
    "version": 3
   },
   "file_extension": ".py",
   "mimetype": "text/x-python",
   "name": "python",
   "nbconvert_exporter": "python",
   "pygments_lexer": "ipython3",
   "version": "3.8.3"
  },
  "toc": {
   "base_numbering": 1,
   "nav_menu": {},
   "number_sections": true,
   "sideBar": true,
   "skip_h1_title": false,
   "title_cell": "Table of Contents",
   "title_sidebar": "Contents",
   "toc_cell": false,
   "toc_position": {
    "height": "calc(100% - 180px)",
    "left": "10px",
    "top": "150px",
    "width": "288px"
   },
   "toc_section_display": true,
   "toc_window_display": true
  }
 },
 "nbformat": 4,
 "nbformat_minor": 4
}
